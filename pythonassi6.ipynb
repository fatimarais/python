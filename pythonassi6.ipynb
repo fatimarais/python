{
 "cells": [
  {
   "cell_type": "markdown",
   "metadata": {},
   "source": [
    "Question 1: Define Object Oriented Programming Language?\n",
    "Object oriented programming is a type of programming paradigm which is abbreviated as OOP. This approach of programming removes the limitations of procedural oriented programming.OOP treats data as an important element and does not allow it to flow freely around the program. Here basic entities called objects are used as data-structures that consist of both data and procedures.\n"
   ]
  },
  {
   "cell_type": "markdown",
   "metadata": {},
   "source": [
    "Question 2: List down the Benefits of OOP?\n",
    "\n",
    "\n",
    "1. Simplicity: software objects model real world objects, so the complexity is reduced and the program structure is very clear; \n",
    "2. Modularity: each object forms a separate entity whose internal workings are decoupled from other parts of the system; \n",
    "3. Modifiability: it is easy to make minor changes in the data representation or the procedures in an OO program. Changes inside a class do not affect any other part of a program, since the only public interface that the external world has to a class is through the use of methods; \n",
    "4. Extensibility: adding new features or responding to changing operating environments can be solved by introducing a few new objects and modifying some existing ones; \n",
    "5. Maintainability: objects can be maintained separately, making locating and fixing problems easier\n"
   ]
  },
  {
   "cell_type": "markdown",
   "metadata": {},
   "source": [
    "Question 3: Differentiate between function and method?\n",
    "\n",
    "A function is a piece of code that is called by name. It can be passed data to operate on (i.e. the parameters) and can optionally return data (the return value). All data that is passed to a function is explicitly passed. A method is a piece of code that is called by a name that is associated with an object."
   ]
  },
  {
   "cell_type": "markdown",
   "metadata": {},
   "source": [
    "Question 4: Define the following terms: \n",
    "1. Class\n",
    "2. Object\n",
    "3. Attribute\n",
    "4. Behavior\n",
    "\n",
    "\n",
    "#### Class: \n",
    "A class is a collection of method and variables. It is a blueprint that defines the data and behavior of a type. Like Human Being, having body parts, performing various actions.\n",
    "A class can be defined using the class keyword and the class body enclosed by a pair of curly braces.\n",
    "#### Object:\n",
    "Each object is an instance of a particular class or subclass with the class's own methods or procedures and data variables. An object is what actually runs in the computer.\n",
    "#### Attribute:\n",
    "An Attribute is a named property of a class. It has a type. It describes the range of values that that property may hold.\n",
    "#### Behavior:\n",
    "The behavior of an object is defined by its methods, which are the functions and subroutines defined within the object class. Without class methods, a class would simply be a structure. A class that inherits another class can also override methods of the inherited class to enhance or change its behavior. If the new class changes a method's behavior, it overrides the method and doesn't call the base class's method.\n",
    "\n"
   ]
  },
  {
   "cell_type": "code",
   "execution_count": 9,
   "metadata": {},
   "outputs": [],
   "source": [
    "# Question 5\n",
    "\n",
    "# Creates class Car\n",
    "class Car:\n",
    "\n",
    "    # create class attributes\n",
    "    name = \"Corolla\"\n",
    "    company = \"Toyota\"\n",
    "    model = 2008\n",
    "    color = \"black\"\n",
    "    \n",
    "\n",
    "    # create class methods\n",
    "    def start(self):\n",
    "        print (\"Engine started\")\n",
    "\n",
    "    def stop(self):\n",
    "        print (\"Engine switched off\")\n",
    "        \n",
    "    def play(radio):\n",
    "        print(\"Radio played\")\n",
    "        \n",
    "# Creates car_a object of Car class\n",
    "car_a = Car()\n",
    "\n",
    "# Creates car_b object of car class\n",
    "car_b = Car()\n",
    "    \n",
    "# Creates car_c object of car class\n",
    "car_bc = Car()\n",
    "        \n",
    "\n",
    "\n"
   ]
  },
  {
   "cell_type": "code",
   "execution_count": 10,
   "metadata": {},
   "outputs": [
    {
     "name": "stdout",
     "output_type": "stream",
     "text": [
      "<class '__main__.Car'>\n"
     ]
    }
   ],
   "source": [
    "print(type(car_b))"
   ]
  },
  {
   "cell_type": "code",
   "execution_count": 11,
   "metadata": {},
   "outputs": [
    {
     "name": "stdout",
     "output_type": "stream",
     "text": [
      "Engine started\n"
     ]
    }
   ],
   "source": [
    "car_b.start()"
   ]
  },
  {
   "cell_type": "code",
   "execution_count": 12,
   "metadata": {},
   "outputs": [
    {
     "name": "stdout",
     "output_type": "stream",
     "text": [
      "2008\n"
     ]
    }
   ],
   "source": [
    "print(car_b.model)"
   ]
  },
  {
   "cell_type": "code",
   "execution_count": null,
   "metadata": {},
   "outputs": [],
   "source": []
  }
 ],
 "metadata": {
  "kernelspec": {
   "display_name": "Python 3",
   "language": "python",
   "name": "python3"
  },
  "language_info": {
   "codemirror_mode": {
    "name": "ipython",
    "version": 3
   },
   "file_extension": ".py",
   "mimetype": "text/x-python",
   "name": "python",
   "nbconvert_exporter": "python",
   "pygments_lexer": "ipython3",
   "version": "3.7.4"
  }
 },
 "nbformat": 4,
 "nbformat_minor": 2
}
