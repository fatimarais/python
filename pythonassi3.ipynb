{
 "cells": [
  {
   "cell_type": "code",
   "execution_count": null,
   "metadata": {},
   "outputs": [],
   "source": [
    "#Simple calculator program\n",
    "print(\" select your desire operation \\n\" \n",
    "        \"1. Add\\n\" \n",
    "        \"2. Subtract\\n\" \n",
    "        \"3. Multiply\\n\" \n",
    "        \"4. Divide\\n\"\n",
    "        \"5. Power\\n\") \n",
    "select = int(input(\"Select operations form 1, 2, 3, 4, 5 :\")) \n",
    "if (select>=1 and select<=5):\n",
    "    number_1 = int(input(\"Enter first number: \")) \n",
    "    number_2 = int(input(\"Enter second number: \")) \n",
    "    if select == 1:\n",
    "        add = number_1 + number_2\n",
    "        print(number_1, \"+\", number_2, \"=\", add) \n",
    "    elif select == 2: \n",
    "        sub = number_1 - number_2\n",
    "        print(number_1, \"-\", number_2, \"=\", sub)\n",
    "    elif select == 3: \n",
    "        mul = number_1 * number_2\n",
    "        print(number_1, \"*\", number_2, \"=\", mul) \n",
    "    elif select == 4: \n",
    "        div = number_1 / number_2\n",
    "        print(number_1, \"/\", number_2, \"=\", div)\n",
    "    elif select == 5: \n",
    "        power = number_1 ** number_2\n",
    "        print(number_1, \"/\", number_2, \"=\", power)\n",
    "    else: \n",
    "        print(\"Invalid input\")"
   ]
  },
  {
   "cell_type": "code",
   "execution_count": null,
   "metadata": {},
   "outputs": [],
   "source": [
    "list_val= ['1', '3', 'f', 'a', 'j', '1', 'i', 'g', '4', 'j','c']\n",
    "mynewlist = [s for s in list_val if s.isdigit()]\n",
    "print(mynewlist)"
   ]
  },
  {
   "cell_type": "code",
   "execution_count": null,
   "metadata": {},
   "outputs": [],
   "source": [
    "my_data = {\n",
    "    \"First Name\" : \"Fatima Rais\",\n",
    "    \"Father Name\" : \"Rais ur Rehman\",\n",
    "    \"D.O.B\" : \"12-February-1998\",\n",
    "    \"Address\" : \"Saeed Manzil Saddar Karachi.\"\n",
    "}\n",
    "print(my_data)\n",
    "my_data[\"N.I.C\"] ='42301-5074243-6'\n",
    "print(my_data)"
   ]
  },
  {
   "cell_type": "code",
   "execution_count": null,
   "metadata": {},
   "outputs": [],
   "source": [
    "num = {\n",
    "    \"A\" : 6,\n",
    "    \"B \" : 7,\n",
    "    \"C\" : 84,\n",
    "    \"D\" : 7\n",
    "}\n",
    "print(num)\n",
    "print(sum(num.values()))"
   ]
  },
  {
   "cell_type": "code",
   "execution_count": null,
   "metadata": {},
   "outputs": [],
   "source": [
    "my_list = [10,30,20,30,40,70,15,11,70,10,50,15,1,20]\n",
    "dub_val = []\n",
    "for x in my_list:\n",
    "    if x not in dub_val:\n",
    "        dub_val.append(x)\n",
    "print(dub_val)"
   ]
  },
  {
   "cell_type": "code",
   "execution_count": null,
   "metadata": {},
   "outputs": [],
   "source": [
    "my_data = {\n",
    "    \"First Name\" : \"Fatima Rais\",\n",
    "    \"Father Name\" : \"Rais ur Rehman\",\n",
    "    \"D.O.B\" : \"12-February-1998\",\n",
    "    \"Address\" : \"Saeed Manzil Saddar Karachi.\"\n",
    "}\n",
    "if 'Address' in my_data.keys():\n",
    "    print(\"Key is present and value of the key is:\")\n",
    "    print(my_data['Address'])\n",
    "else:\n",
    "      print(\"Key is not present!\")"
   ]
  },
  {
   "cell_type": "code",
   "execution_count": null,
   "metadata": {},
   "outputs": [],
   "source": []
  },
  {
   "cell_type": "code",
   "execution_count": null,
   "metadata": {},
   "outputs": [],
   "source": []
  },
  {
   "cell_type": "code",
   "execution_count": null,
   "metadata": {},
   "outputs": [],
   "source": []
  }
 ],
 "metadata": {
  "kernelspec": {
   "display_name": "Python 3",
   "language": "python",
   "name": "python3"
  },
  "language_info": {
   "codemirror_mode": {
    "name": "ipython",
    "version": 3
   },
   "file_extension": ".py",
   "mimetype": "text/x-python",
   "name": "python",
   "nbconvert_exporter": "python",
   "pygments_lexer": "ipython3",
   "version": "3.7.4"
  }
 },
 "nbformat": 4,
 "nbformat_minor": 2
}
