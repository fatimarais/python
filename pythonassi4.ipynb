{
 "cells": [
  {
   "cell_type": "code",
   "execution_count": 1,
   "metadata": {},
   "outputs": [
    {
     "name": "stdout",
     "output_type": "stream",
     "text": [
      "Fatima\n",
      "Rais\n",
      "21\n",
      "{'First Name': 'Fatima', 'Last Name': 'Rais', 'Age': '21', 'Qualification': 'Intermediate'}\n",
      "{'First Name': 'Fatima', 'Last Name': 'Rais', 'Age': '21', 'Qualification': 'Graduate'}\n",
      "{'First Name': 'Fatima', 'Last Name': 'Rais', 'Age': '21'}\n"
     ]
    }
   ],
   "source": [
    "data = {\n",
    "    \"First Name\" : \"Fatima\",\n",
    "    \"Last Name\" : \"Rais\",\n",
    "    \"Age\" : \"21\"\n",
    "}\n",
    "print(data['First Name'])\n",
    "print(data['Last Name'])\n",
    "print(data['Age'])\n",
    "data['Qualification'] = 'Intermediate'\n",
    "print(data)\n",
    "data_new = {'Qualification' : 'Graduate'}\n",
    "data.update(data_new)\n",
    "print(data)\n",
    "del data['Qualification']\n",
    "print(data)"
   ]
  },
  {
   "cell_type": "code",
   "execution_count": 3,
   "metadata": {},
   "outputs": [
    {
     "name": "stdout",
     "output_type": "stream",
     "text": [
      "\n",
      "Karachi is in Pakistan.\n",
      "It has a population of about 14.91 Million.\n",
      "The It is the Sixth largest city in the world by city population.\n",
      "\n",
      "Islamabad is in Pakistan.\n",
      "It has a population of about 1.015 million.\n",
      "The Capital Facts for Islamabad, Pakistan. Islamabad Capital Territory Remarkable for its 16 local universities, Islamabad is the capital city for the Islamic Republic of Pakistan\n",
      "\n",
      "Peshawar is in Pakistan.\n",
      "It has a population of about 1.97 million.\n",
      "The Peshawar, an ancient yet still vibrant city is known for its resilience against violence, its love for stories and poetry\n"
     ]
    }
   ],
   "source": [
    "cities = {\n",
    "    'Karachi' : {\n",
    "        'Country' : 'Pakistan',\n",
    "        'Population' : '14.91 Million',\n",
    "        'Facts' : 'It is the Sixth largest city in the world by city population.'\n",
    "    },\n",
    "    'Islamabad' : {\n",
    "        'Country' : 'Pakistan',\n",
    "        'Population' : '1.015 million',\n",
    "        'Facts' : 'Capital Facts for Islamabad, Pakistan. Islamabad Capital Territory Remarkable for its 16 local universities, Islamabad is the capital city for the Islamic Republic of Pakistan'\n",
    "    },\n",
    "    'Peshawar' : {\n",
    "        'Country' : 'Pakistan',\n",
    "        'Population' : '1.97 million',\n",
    "        'Facts' : 'Peshawar, an ancient yet still vibrant city is known for its resilience against violence, its love for stories and poetry'\n",
    "    }\n",
    "}\n",
    "\n",
    "\n",
    "for city, info in cities.items():\n",
    "    Country = info['Country']\n",
    "    Population = info['Population']\n",
    "    Facts = info['Facts']\n",
    "\n",
    "    print(\"\\n\" + city + \" is in \" + Country + \".\")\n",
    "    print(\"It has a population of about \" + str(Population) + \".\")\n",
    "    print(\"The \" + Facts )"
   ]
  },
  {
   "cell_type": "code",
   "execution_count": 4,
   "metadata": {},
   "outputs": [
    {
     "name": "stdout",
     "output_type": "stream",
     "text": [
      "How old are you? 21\n",
      "Pay $15 for your free.\n"
     ]
    }
   ],
   "source": [
    "Person_age = input(\"How old are you? \")\n",
    "Person_age = int(Person_age)\n",
    "\n",
    "if Person_age < 3:\n",
    "    print(\"Ticket is free for child.\")\n",
    "elif Person_age < 12:\n",
    "    print(\"Pay $10 for your free.\")\n",
    "else:\n",
    "    print(\"Pay $15 for your free.\")"
   ]
  },
  {
   "cell_type": "code",
   "execution_count": 5,
   "metadata": {},
   "outputs": [
    {
     "name": "stdout",
     "output_type": "stream",
     "text": [
      "How old are you? \n",
      "Enter 'Done' When you done buying. \n",
      "21\n",
      "Ticket is free for child.\n",
      "How old are you? \n",
      "Enter 'Done' When you done buying. \n",
      "Done\n"
     ]
    }
   ],
   "source": [
    "while True:        \n",
    "    print(\"How old are you? \")\n",
    "    print(\"Enter 'Done' When you done buying. \")\n",
    "    Person_age = input()\n",
    "    if Person_age == 'Done':\n",
    "        break\n",
    "    Person_age = (Person_age)\n",
    "    if Person_age < '3':\n",
    "        print(\"Ticket is free for child.\")\n",
    "    elif Person_age < '12':\n",
    "        print(\"Pay $10 for your ticket.\")\n",
    "    else:\n",
    "        print(\"Pay $15 for your ticket.\")"
   ]
  },
  {
   "cell_type": "code",
   "execution_count": 6,
   "metadata": {},
   "outputs": [
    {
     "name": "stdout",
     "output_type": "stream",
     "text": [
      " My favorite books is Mind Platter\n",
      "\n"
     ]
    }
   ],
   "source": [
    "def favorite_book(title):\n",
    "    print(\" My favorite books is \" + title + \"\\n\" )\n",
    "\n",
    "favorite_book('Mind Platter')"
   ]
  },
  {
   "cell_type": "code",
   "execution_count": null,
   "metadata": {},
   "outputs": [],
   "source": []
  }
 ],
 "metadata": {
  "kernelspec": {
   "display_name": "Python 3",
   "language": "python",
   "name": "python3"
  },
  "language_info": {
   "codemirror_mode": {
    "name": "ipython",
    "version": 3
   },
   "file_extension": ".py",
   "mimetype": "text/x-python",
   "name": "python",
   "nbconvert_exporter": "python",
   "pygments_lexer": "ipython3",
   "version": "3.7.4"
  }
 },
 "nbformat": 4,
 "nbformat_minor": 2
}
