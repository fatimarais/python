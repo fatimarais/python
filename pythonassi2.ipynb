{
 "cells": [
  {
   "cell_type": "code",
   "execution_count": 1,
   "metadata": {},
   "outputs": [
    {
     "name": "stdout",
     "output_type": "stream",
     "text": [
      "enter marks :45\n",
      "enter marks :90\n",
      "enter marks:50\n",
      "enter marks:77\n",
      "enter marks:97\n",
      "B+\n"
     ]
    }
   ],
   "source": [
    "maths=int(input(\"enter marks :\"))\n",
    "physics=int(input(\"enter marks :\"))\n",
    "chemistry=int(input(\"enter marks:\"))\n",
    "english=int(input(\"enter marks:\"))\n",
    "urdu=int(input(\"enter marks:\"))\n",
    "total=maths+physics+chemistry+english+urdu\n",
    "per=(total/500)*100\n",
    "if per>=80 and per<100:\n",
    "    print(\"A+\")\n",
    "elif per >=60 and per<80:\n",
    "    print(\"B+\")\n",
    "elif per >=40 and per<50:\n",
    "    print(\"C+\")\n",
    "else:\n",
    "    print(\"fail\")"
   ]
  },
  {
   "cell_type": "code",
   "execution_count": 2,
   "metadata": {},
   "outputs": [
    {
     "name": "stdout",
     "output_type": "stream",
     "text": [
      "enter your number :5\n",
      "odd\n"
     ]
    }
   ],
   "source": [
    "a=int(input(\"enter your number :\"))\n",
    "if a%2==0:\n",
    "    print(\"even\")\n",
    "else:\n",
    "    print(\"odd\")"
   ]
  },
  {
   "cell_type": "code",
   "execution_count": 5,
   "metadata": {},
   "outputs": [
    {
     "name": "stdout",
     "output_type": "stream",
     "text": [
      "list of lenght: 12\n"
     ]
    }
   ],
   "source": [
    "a=[1, 2, 3, 24, 52, 73, 8, 9, 10 ,66,56,44]\n",
    "list_of_lenght= len(a)\n",
    "print(\"list of lenght:\",len(a))"
   ]
  },
  {
   "cell_type": "code",
   "execution_count": 7,
   "metadata": {},
   "outputs": [
    {
     "name": "stdout",
     "output_type": "stream",
     "text": [
      "444\n"
     ]
    }
   ],
   "source": [
    "a=[1,2,3,4,54,6,7,48,9,310]\n",
    "sum(a)\n",
    "print(sum(a))"
   ]
  },
  {
   "cell_type": "code",
   "execution_count": 9,
   "metadata": {},
   "outputs": [
    {
     "name": "stdout",
     "output_type": "stream",
     "text": [
      "93\n"
     ]
    }
   ],
   "source": [
    "a=[1,32,3,4,45,6,7,8,93,10]\n",
    "max(a)\n",
    "print(max(a))"
   ]
  },
  {
   "cell_type": "code",
   "execution_count": 10,
   "metadata": {},
   "outputs": [
    {
     "name": "stdout",
     "output_type": "stream",
     "text": [
      "1\n",
      "2\n",
      "3\n",
      "4\n"
     ]
    }
   ],
   "source": [
    "a=[1,2,3,4,54,6,7,48,9,310]\n",
    "for i in a:\n",
    "    if i<5:\n",
    "        print(i)"
   ]
  },
  {
   "cell_type": "code",
   "execution_count": null,
   "metadata": {},
   "outputs": [],
   "source": []
  }
 ],
 "metadata": {
  "kernelspec": {
   "display_name": "Python 3",
   "language": "python",
   "name": "python3"
  },
  "language_info": {
   "codemirror_mode": {
    "name": "ipython",
    "version": 3
   },
   "file_extension": ".py",
   "mimetype": "text/x-python",
   "name": "python",
   "nbconvert_exporter": "python",
   "pygments_lexer": "ipython3",
   "version": "3.7.4"
  }
 },
 "nbformat": 4,
 "nbformat_minor": 2
}
